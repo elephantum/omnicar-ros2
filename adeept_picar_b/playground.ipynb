{
 "cells": [
  {
   "cell_type": "code",
   "execution_count": 2,
   "metadata": {},
   "outputs": [],
   "source": [
    "from board import SCL, SDA\n",
    "import busio\n",
    "from adafruit_motor import servo\n",
    "import adafruit_pca9685"
   ]
  },
  {
   "cell_type": "code",
   "execution_count": 3,
   "metadata": {},
   "outputs": [],
   "source": [
    "i2c_bus = busio.I2C(SCL, SDA)\n",
    "pca = adafruit_pca9685.PCA9685(i2c_bus)"
   ]
  },
  {
   "cell_type": "code",
   "execution_count": 4,
   "metadata": {},
   "outputs": [],
   "source": [
    "pca.frequency = 50"
   ]
  },
  {
   "cell_type": "code",
   "execution_count": 12,
   "metadata": {},
   "outputs": [],
   "source": [
    "# steering\n",
    "\n",
    "servo0 = servo.Servo(pca.channels[0])\n",
    "servo0.angle = 100"
   ]
  },
  {
   "cell_type": "code",
   "execution_count": 11,
   "metadata": {},
   "outputs": [],
   "source": [
    "# head yaw\n",
    "servo1 = servo.Servo(pca.channels[1])\n",
    "servo1.angle = None"
   ]
  },
  {
   "cell_type": "code",
   "execution_count": 14,
   "metadata": {},
   "outputs": [],
   "source": [
    "# head pitch\n",
    "\n",
    "servo2 = servo.Servo(pca.channels[2])\n",
    "servo2.angle = 90"
   ]
  },
  {
   "cell_type": "code",
   "execution_count": 16,
   "metadata": {},
   "outputs": [],
   "source": [
    "pca.deinit()"
   ]
  },
  {
   "cell_type": "code",
   "execution_count": 15,
   "metadata": {},
   "outputs": [],
   "source": [
    "import RPi.GPIO as GPIO"
   ]
  },
  {
   "cell_type": "code",
   "execution_count": 32,
   "metadata": {},
   "outputs": [],
   "source": [
    "# Motor_A_EN    = 4\n",
    "# Motor_A_Pin1  = 14\n",
    "# Motor_A_Pin2  = 15\n"
   ]
  },
  {
   "cell_type": "code",
   "execution_count": 16,
   "metadata": {},
   "outputs": [],
   "source": [
    "# Drive\n",
    "\n",
    "Motor_A_EN    = 17\n",
    "Motor_A_Pin1  = 27\n",
    "Motor_A_Pin2  = 18\n"
   ]
  },
  {
   "cell_type": "code",
   "execution_count": 17,
   "metadata": {},
   "outputs": [],
   "source": [
    "GPIO.setmode(GPIO.BCM)\n",
    "GPIO.setup(Motor_A_EN, GPIO.OUT)\n",
    "GPIO.setup(Motor_A_Pin1, GPIO.OUT)\n",
    "GPIO.setup(Motor_A_Pin2, GPIO.OUT)\n"
   ]
  },
  {
   "cell_type": "code",
   "execution_count": 18,
   "metadata": {},
   "outputs": [],
   "source": [
    "pwm_A = GPIO.PWM(Motor_A_EN, 1000)"
   ]
  },
  {
   "cell_type": "code",
   "execution_count": 21,
   "metadata": {},
   "outputs": [],
   "source": [
    "GPIO.output(Motor_A_Pin1, GPIO.LOW)\n",
    "GPIO.output(Motor_A_Pin2, GPIO.HIGH)\n",
    "pwm_A.start(100)\n",
    "pwm_A.ChangeDutyCycle(0)"
   ]
  },
  {
   "cell_type": "code",
   "execution_count": null,
   "metadata": {},
   "outputs": [],
   "source": []
  }
 ],
 "metadata": {
  "kernelspec": {
   "display_name": "venv",
   "language": "python",
   "name": "python3"
  },
  "language_info": {
   "codemirror_mode": {
    "name": "ipython",
    "version": 3
   },
   "file_extension": ".py",
   "mimetype": "text/x-python",
   "name": "python",
   "nbconvert_exporter": "python",
   "pygments_lexer": "ipython3",
   "version": "3.10.12"
  }
 },
 "nbformat": 4,
 "nbformat_minor": 2
}
